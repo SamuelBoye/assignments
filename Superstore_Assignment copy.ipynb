{
  "cells": [
    {
      "cell_type": "markdown",
      "metadata": {
        "id": "irlIEgYU_Bpm"
      },
      "source": [
        "# Superstore PySpark Assignment\n",
        "This notebook answers Questions 9–14 from the Module 1 Assignment using PySpark and the Superstore dataset."
      ]
    },
    {
      "cell_type": "code",
      "execution_count": 44,
      "metadata": {
        "colab": {
          "base_uri": "https://localhost:8080/"
        },
        "id": "wzg_zzLr_Bpn",
        "outputId": "436521c0-ad63-4548-c4df-86709ac397c3"
      },
      "outputs": [
        {
          "output_type": "stream",
          "name": "stdout",
          "text": [
            "tar: spark-3.4.1-bin-hadoop3.tgz: Cannot open: No such file or directory\n",
            "tar: Error is not recoverable: exiting now\n"
          ]
        }
      ],
      "source": [
        "# Install Spark and Java (only needed on Colab)\n",
        "!apt-get install openjdk-17-jdk-headless -qq > /dev/null\n",
        "!wget -q https://downloads.apache.org/spark/spark-3.4.1/spark-3.4.1-bin-hadoop3.tgz\n",
        "!tar xf spark-3.4.1-bin-hadoop3.tgz\n",
        "!pip install -q findspark\n",
        "\n",
        "import os\n",
        "os.environ[\"JAVA_HOME\"] = \"/usr/lib/jvm/java-17-openjdk-amd64\"\n",
        "os.environ[\"SPARK_HOME\"] = \"/content/spark-3.4.1-bin-hadoop3\"\n",
        "\n",
        "import findspark\n",
        "findspark.init()"
      ]
    },
    {
      "cell_type": "code",
      "execution_count": 45,
      "metadata": {
        "id": "03LiEOMV_Bpn"
      },
      "outputs": [],
      "source": [
        "from pyspark.sql import SparkSession\n",
        "from pyspark.sql.functions import avg, max as spark_max, count, expr\n",
        "from pyspark.sql.types import DoubleType\n",
        "from pyspark.sql.functions import expr\n",
        "\n",
        "# Initialize Spark\n",
        "spark = SparkSession.builder.appName(\"SuperstoreAssignment\").getOrCreate()"
      ]
    },
    {
      "cell_type": "code",
      "execution_count": 50,
      "metadata": {
        "colab": {
          "base_uri": "https://localhost:8080/"
        },
        "id": "2ncZuHq3_Bpn",
        "outputId": "c575d0dd-eb3f-4759-c3c1-7849b2ab3db8"
      },
      "outputs": [
        {
          "output_type": "stream",
          "name": "stdout",
          "text": [
            "--2025-06-02 20:00:58--  https://raw.githubusercontent.com/SamuelBoye/assignments/refs/heads/main/Superstore-2.csv\n",
            "Resolving raw.githubusercontent.com (raw.githubusercontent.com)... 185.199.108.133, 185.199.109.133, 185.199.110.133, ...\n",
            "Connecting to raw.githubusercontent.com (raw.githubusercontent.com)|185.199.108.133|:443... connected.\n",
            "HTTP request sent, awaiting response... 200 OK\n",
            "Length: 2167101 (2.1M) [text/plain]\n",
            "Saving to: ‘Superstore.csv’\n",
            "\n",
            "Superstore.csv      100%[===================>]   2.07M  --.-KB/s    in 0.07s   \n",
            "\n",
            "2025-06-02 20:00:59 (28.0 MB/s) - ‘Superstore.csv’ saved [2167101/2167101]\n",
            "\n",
            "+--------------------+-----------+---------+-----------+--------------------+----------------+---------------+--------+-------+--------------------+-----------------+----------+--------+--------------+--------------+-----------+-------------------+--------+------+----------+------+----------+--------------+-------------+--------------+----------+\n",
            "|            Category|       City|Container|Customer ID|       Customer Name|Customer Segment|     Department|Discount|Item ID|                Item|Number of Records|Order Date|Order ID|Order Priority|Order Quantity|Postal Code|Product Base Margin|  Profit|Region|    Row ID| Sales| Ship Date|     Ship Mode|Shipping Cost|         State|Unit Price|\n",
            "+--------------------+-----------+---------+-----------+--------------------+----------------+---------------+--------+-------+--------------------+-----------------+----------+--------+--------------+--------------+-----------+-------------------+--------+------+----------+------+----------+--------------+-------------+--------------+----------+\n",
            "|Telephones and Co...|   Gastonia|Small Box|       1738|        Dean Solomon|       Corporate|     Technology|    0.08|  10631|          Item 10631|                1| 9/11/2017|   85865|        Medium|            10|      28052|               0.59|-16477.0| South| 2/12/1950|1486.0| 9/19/2018|   Regular Air|            5|North Carolina|       176|\n",
            "|Binders and Binde...|Hattiesburg|Small Box|       1632|          Lori Wolfe|     Home Office|Office Supplies|    0.01|  10498|Large Capacity Ha...|                1|11/27/2016|   90534|           Low|             3|      39401|               0.39|-14369.0| South|  6/1/1957|  81.0|11/30/2017|   Regular Air|            3|   Mississippi|        25|\n",
            "|     Office Machines| Des Moines|Large Box|       2855|        Vicki Womble|        Consumer|     Technology|    0.09|  10538|Polycom ViewStati...|                1| 2/18/2017|   87317|           Low|             1|      98198|               0.39|-14141.0|  West| 7/21/1963|6296.0| 2/19/2018|   Regular Air|           24|    Washington|      6783|\n",
            "|           Bookcases|  Coachella|Jumbo Box|       1793|      Derek Jernigan|     Home Office|      Furniture|    0.04|  11234|Riverside Palais ...|                1|  1/6/2014|   87853|      Critical|             8|      92236|               0.62|-13706.0|  West|  4/9/1958|6969.0|  1/6/2016|Delivery Truck|           45|    California|       881|\n",
            "|     Office Machines|    Bozeman|Large Box|       2004|James Dickinson Ball|     Home Office|     Technology|    0.04|  10538|Polycom ViewStati...|                1| 9/21/2016|   91277|        Medium|             1|      59715|               0.39|-13563.0|  West|11/30/1965|6569.0| 9/22/2017|   Regular Air|           24|       Montana|      6783|\n",
            "+--------------------+-----------+---------+-----------+--------------------+----------------+---------------+--------+-------+--------------------+-----------------+----------+--------+--------------+--------------+-----------+-------------------+--------+------+----------+------+----------+--------------+-------------+--------------+----------+\n",
            "only showing top 5 rows\n",
            "\n"
          ]
        }
      ],
      "source": [
        "# Replace with your actual raw GitHub CSV URL\n",
        "csv_url = \"https://raw.githubusercontent.com/SamuelBoye/assignments/refs/heads/main/Superstore-2.csv\"\n",
        "\n",
        "# Download the file\n",
        "!wget -O Superstore.csv $csv_url\n",
        "\n",
        "# Read into Spark\n",
        "df = spark.read.csv(\"Superstore.csv\", header=True, inferSchema=True)\n",
        "\n",
        "# Cast numeric fields\n",
        "df = df.withColumn(\"Sales\", expr(\"try_cast(Sales as double)\"))\n",
        "df = df.withColumn(\"Profit\", expr(\"try_cast(Profit as double)\"))\n",
        "\n",
        "# Preview data\n",
        "df.show(5)\n"
      ]
    },
    {
      "cell_type": "markdown",
      "metadata": {
        "id": "v7-LyNga_Bpn"
      },
      "source": [
        "### Q9: Who is the customer that generated the most sales?"
      ]
    },
    {
      "cell_type": "code",
      "execution_count": 12,
      "metadata": {
        "colab": {
          "base_uri": "https://localhost:8080/"
        },
        "id": "p8hlXlSn_Bpn",
        "outputId": "96448918-415d-4ee2-d42a-2eb07f9ea980"
      },
      "outputs": [
        {
          "output_type": "stream",
          "name": "stdout",
          "text": [
            "+------------------+----------+\n",
            "|     Customer Name|sum(Sales)|\n",
            "+------------------+----------+\n",
            "|Joshua N. Milligan|  123748.0|\n",
            "+------------------+----------+\n",
            "only showing top 1 row\n",
            "\n"
          ]
        }
      ],
      "source": [
        "top_customer = df.groupBy(\"Customer Name\").sum(\"Sales\").orderBy(\"sum(Sales)\", ascending=False)\n",
        "top_customer.show(1)"
      ]
    },
    {
      "cell_type": "markdown",
      "metadata": {
        "id": "TI76-JPI_Bpn"
      },
      "source": [
        "### Q10: Highest average sales per transaction for any city"
      ]
    },
    {
      "cell_type": "code",
      "execution_count": 13,
      "metadata": {
        "colab": {
          "base_uri": "https://localhost:8080/"
        },
        "id": "Siih4Dfc_Bpo",
        "outputId": "160cec7f-157c-47a0-faa4-ce6e512521dc"
      },
      "outputs": [
        {
          "output_type": "stream",
          "name": "stdout",
          "text": [
            "+----------+---------+\n",
            "|      City|avg_sales|\n",
            "+----------+---------+\n",
            "|Barrington|   7029.0|\n",
            "+----------+---------+\n",
            "only showing top 1 row\n",
            "\n"
          ]
        }
      ],
      "source": [
        "avg_sales = df.groupBy(\"City\").agg(avg(\"Sales\").alias(\"avg_sales\")).orderBy(\"avg_sales\", ascending=False)\n",
        "avg_sales.show(1)"
      ]
    },
    {
      "cell_type": "markdown",
      "metadata": {
        "id": "L75fHD5t_Bpo"
      },
      "source": [
        "### Q11: Highest total profit for any item"
      ]
    },
    {
      "cell_type": "code",
      "execution_count": 19,
      "metadata": {
        "colab": {
          "base_uri": "https://localhost:8080/"
        },
        "id": "tsWAeLJo_Bpo",
        "outputId": "b52d7f90-53ab-4951-fec7-e8aa808c4aa6"
      },
      "outputs": [
        {
          "output_type": "stream",
          "name": "stdout",
          "text": [
            "+------------+------------+\n",
            "|        Item|total_profit|\n",
            "+------------+------------+\n",
            "|Imation 3.5\"|   1207461.0|\n",
            "+------------+------------+\n",
            "only showing top 1 row\n",
            "\n"
          ]
        }
      ],
      "source": [
        "# Q11: Total profit per item, then find the highest\n",
        "from pyspark.sql.functions import sum as spark_sum\n",
        "\n",
        "df.groupBy(\"Item\") \\\n",
        "  .agg(spark_sum(\"Profit\").alias(\"total_profit\")) \\\n",
        "  .orderBy(\"total_profit\", ascending=False) \\\n",
        "  .show(1)\n"
      ]
    },
    {
      "cell_type": "markdown",
      "metadata": {
        "id": "-sYjiNoG_Bpo"
      },
      "source": [
        "### Q12: Largest number of transactions for any combination of state and customer segment"
      ]
    },
    {
      "cell_type": "code",
      "execution_count": 54,
      "metadata": {
        "colab": {
          "base_uri": "https://localhost:8080/"
        },
        "id": "NHvZocQg_Bpo",
        "outputId": "9a154175-cbf3-4d51-ad4a-ec30fdc866d1"
      },
      "outputs": [
        {
          "output_type": "stream",
          "name": "stdout",
          "text": [
            "+-----+----------------+-------------------+\n",
            "|State|Customer Segment|unique_transactions|\n",
            "+-----+----------------+-------------------+\n",
            "|Texas|       Corporate|                246|\n",
            "+-----+----------------+-------------------+\n",
            "only showing top 1 row\n",
            "\n"
          ]
        }
      ],
      "source": [
        "from pyspark.sql.functions import countDistinct\n",
        "\n",
        "df.groupBy(\"State\", \"Customer Segment\") \\\n",
        "  .agg(countDistinct(\"Order ID\").alias(\"unique_transactions\")) \\\n",
        "  .orderBy(\"unique_transactions\", ascending=False) \\\n",
        "  .show(1)"
      ]
    },
    {
      "cell_type": "markdown",
      "metadata": {
        "id": "tt9mGtvP_Bpo"
      },
      "source": [
        "### Q13: Highest average profit for any city-state combination"
      ]
    },
    {
      "cell_type": "code",
      "execution_count": 53,
      "metadata": {
        "colab": {
          "base_uri": "https://localhost:8080/"
        },
        "id": "igCmAXhp_Bpo",
        "outputId": "6c198da4-f0da-476b-d4a9-fc9a95afcf1f"
      },
      "outputs": [
        {
          "output_type": "stream",
          "name": "stdout",
          "text": [
            "+------------+-------+----------+\n",
            "|        City|  State|avg_profit|\n",
            "+------------+-------+----------+\n",
            "|Douglasville|Georgia|    5379.0|\n",
            "+------------+-------+----------+\n",
            "\n"
          ]
        }
      ],
      "source": [
        "from pyspark.sql.functions import col\n",
        "\n",
        "# Filter out known corrupted state values\n",
        "df_clean = df.filter(~col(\"State\").isin(\"Regular Air\", \"Express Air\", \"Delivery Truck\", \"Second Class\", \"First Class\"))\n",
        "\n",
        "# Register new clean temp view\n",
        "df_clean.createOrReplaceTempView(\"superstore\")\n",
        "\n",
        "# Now rerun Q13 query\n",
        "spark.sql(\"\"\"\n",
        "SELECT City, State, ROUND(AVG(Profit), 2) AS avg_profit\n",
        "FROM superstore\n",
        "WHERE City IS NOT NULL AND State IS NOT NULL AND Profit IS NOT NULL\n",
        "GROUP BY City, State\n",
        "ORDER BY avg_profit DESC\n",
        "LIMIT 1\n",
        "\"\"\").show()\n",
        "\n"
      ]
    },
    {
      "cell_type": "code",
      "source": [
        "df.filter(df.City == \"Troutdale\").select(\"City\", \"State\", \"Ship Mode\", \"Profit\").show()\n"
      ],
      "metadata": {
        "id": "DjSPK93QJNrB",
        "outputId": "e35a6b67-1dfa-4b5c-cf55-625984491daf",
        "colab": {
          "base_uri": "https://localhost:8080/"
        }
      },
      "execution_count": 51,
      "outputs": [
        {
          "output_type": "stream",
          "name": "stdout",
          "text": [
            "+---------+-----------+--------------+-------+\n",
            "|     City|      State|     Ship Mode| Profit|\n",
            "+---------+-----------+--------------+-------+\n",
            "|Troutdale|     Oregon|   Regular Air| -773.0|\n",
            "|Troutdale|Regular Air|            10|97060.0|\n",
            "|Troutdale|     Oregon|   Regular Air|    1.0|\n",
            "|Troutdale|     Oregon|   Regular Air|  990.0|\n",
            "|Troutdale|     Oregon|Delivery Truck| 4749.0|\n",
            "+---------+-----------+--------------+-------+\n",
            "\n"
          ]
        }
      ]
    },
    {
      "cell_type": "code",
      "source": [],
      "metadata": {
        "id": "EoZUJ8WqOK0l"
      },
      "execution_count": null,
      "outputs": []
    }
  ],
  "metadata": {
    "kernelspec": {
      "display_name": "Python 3",
      "language": "python",
      "name": "python3"
    },
    "language_info": {
      "name": "python",
      "version": "3.12"
    },
    "colab": {
      "provenance": []
    }
  },
  "nbformat": 4,
  "nbformat_minor": 0
}